{
 "cells": [
  {
   "cell_type": "code",
   "execution_count": 16,
   "metadata": {},
   "outputs": [],
   "source": [
    "#  Q1 Create a vehicle class with an init method having instance variables as name_of_vehicle, max_speed and average_of_vehicle."
   ]
  },
  {
   "cell_type": "code",
   "execution_count": 17,
   "metadata": {},
   "outputs": [],
   "source": [
    "class vehicle:\n",
    "    def __init__(self,name_of_vehicle,max_speed,average_of_vehicle) -> None:\n",
    "        self.name_of_vehicle=name_of_vehicle\n",
    "        self.max_speed=max_speed\n",
    "        self.average_of_vehicle=average_of_vehicle"
   ]
  },
  {
   "cell_type": "code",
   "execution_count": 18,
   "metadata": {},
   "outputs": [],
   "source": [
    "# Q2. Create a child class car from the vehicle class created in Que 1, which will inherit the vehicle class. Create a method named seating_capacity which takes capacity as an argument and returns the name of the vehicle and its seating capacity."
   ]
  },
  {
   "cell_type": "code",
   "execution_count": 25,
   "metadata": {},
   "outputs": [],
   "source": [
    "class car(vehicle):\n",
    "    def seating_capacity(self,capacity):\n",
    "        self.seating_capacity=capacity\n",
    "        return [self.name_of_vehicle, self.seating_capacity]"
   ]
  },
  {
   "cell_type": "code",
   "execution_count": 26,
   "metadata": {},
   "outputs": [
    {
     "data": {
      "text/plain": [
       "['Mercedes G class', 4]"
      ]
     },
     "execution_count": 26,
     "metadata": {},
     "output_type": "execute_result"
    }
   ],
   "source": [
    "c=car(name_of_vehicle=\"Mercedes G class\",max_speed=\"150\",average_of_vehicle='21')\n",
    "c.seating_capacity(4)\n"
   ]
  },
  {
   "cell_type": "code",
   "execution_count": 27,
   "metadata": {},
   "outputs": [
    {
     "name": "stdout",
     "output_type": "stream",
     "text": [
      "Orange and White\n",
      "Hexagon\n"
     ]
    }
   ],
   "source": [
    "# Q3. What is multiple inheritance? Write a python code to demonstrate multiple inheritance.\n",
    "\n",
    "# Ans: Multiple inheritance in Python refers to a scenario where a class can inherit attributes and methods from more than one parent class. This allows a child class to have characteristics of multiple parent classes.\n",
    "\n",
    "class A:\n",
    "    def color(self):\n",
    "        print(\"Orange and White\")\n",
    "\n",
    "class B:\n",
    "    def shape(self):\n",
    "        print(\"Hexagon\")\n",
    "\n",
    "class C(A,B):\n",
    "    pass\n",
    "\n",
    "c=C()\n",
    "c.color()\n",
    "c.shape()"
   ]
  },
  {
   "cell_type": "code",
   "execution_count": 28,
   "metadata": {},
   "outputs": [
    {
     "data": {
      "text/plain": [
       "'Buggu'"
      ]
     },
     "execution_count": 28,
     "metadata": {},
     "output_type": "execute_result"
    }
   ],
   "source": [
    "# Q4. What are getter and setter in python? Create a class and create a getter and a setter method in this class.\n",
    "\n",
    "'''Getters and setters are methods used to access and modify the attributes of a class, providing controlled access to class attributes, typically referred to as properties.\n",
    "\n",
    "Getter Method: It is a method used to retrieve the value of a private attribute from a class. Getter methods are also known as accessor methods because they allow access to the value of an attribute from outside the class. They usually have names prefixed with \"get_\" and return the value of the attribute.\n",
    "\n",
    "Setter Method: It is a method used to modify the value of a private attribute in a class. Setter methods are also known as mutator methods because they allow modification of the value of an attribute from outside the class. They typically have names prefixed with \"set_\" and take an argument to assign a new value to the attribute'''\n",
    "\n",
    "\n",
    "class Babies:\n",
    "    def set_name(self,name):\n",
    "        self.name=name\n",
    "    \n",
    "    def get_name(self):\n",
    "        return self.name\n",
    "\n",
    "me=Babies()\n",
    "me.set_name(\"Buggu\")\n",
    "me.get_name()\n",
    "        "
   ]
  },
  {
   "cell_type": "code",
   "execution_count": 29,
   "metadata": {},
   "outputs": [
    {
     "name": "stdout",
     "output_type": "stream",
     "text": [
      "161\n",
      "165\n"
     ]
    }
   ],
   "source": [
    "# Q5.What is method overriding in python? Write a python code to demonstrate method overriding.\n",
    "\n",
    "# Ans: Method overriding in Python occurs when a subclass defines a method that is already present in its superclass with the same name and signature/parameters\n",
    "\n",
    "class Mom:\n",
    "    def height(self):\n",
    "        print(161)\n",
    "    \n",
    "class Me(Mom):\n",
    "    def height(self):\n",
    "        print(165)\n",
    "\n",
    "mom=Mom()\n",
    "me=Me()\n",
    "mom.height()\n",
    "me.height()"
   ]
  },
  {
   "cell_type": "code",
   "execution_count": null,
   "metadata": {},
   "outputs": [],
   "source": []
  }
 ],
 "metadata": {
  "kernelspec": {
   "display_name": "Python 3",
   "language": "python",
   "name": "python3"
  },
  "language_info": {
   "codemirror_mode": {
    "name": "ipython",
    "version": 3
   },
   "file_extension": ".py",
   "mimetype": "text/x-python",
   "name": "python",
   "nbconvert_exporter": "python",
   "pygments_lexer": "ipython3",
   "version": "3.10.0"
  }
 },
 "nbformat": 4,
 "nbformat_minor": 2
}
